{
 "cells": [
  {
   "cell_type": "code",
   "execution_count": null,
   "id": "b01b3c43",
   "metadata": {},
   "outputs": [],
   "source": [
    "import os\n",
    "import glob\n",
    "import time\n",
    "import numpy as np\n",
    "import pandas as pd\n",
    "\n",
    "from PIL import ImageGrab\n",
    "from skimage.io import imread, imshow"
   ]
  },
  {
   "cell_type": "code",
   "execution_count": null,
   "id": "7e02a7b3",
   "metadata": {},
   "outputs": [],
   "source": [
    "PROCESS_DATA = False\n"
   ]
  },
  {
   "cell_type": "code",
   "execution_count": null,
   "id": "8b7fc013",
   "metadata": {},
   "outputs": [],
   "source": [
    "def load_images():\n",
    "    IMG_DIR = '../img/'\n",
    "    img_files = []\n",
    "    [img_files.extend(glob.glob(IMG_DIR + '*' + x)) for x in 'png']\n",
    "    return img_files"
   ]
  },
  {
   "cell_type": "code",
   "execution_count": null,
   "id": "6a82545a",
   "metadata": {},
   "outputs": [],
   "source": [
    "img_data = load_images()"
   ]
  },
  {
   "cell_type": "code",
   "execution_count": null,
   "id": "11e7f56c",
   "metadata": {},
   "outputs": [],
   "source": [
    "img_counter = 0\n",
    "start = time.perf_counter()\n",
    "if PROCESS_DATA:\n",
    "    for i in img_data:\n",
    "        LABEL_PATH = './pixel_values/'\n",
    "        name = os.path.join(LABEL_PATH, f'image_{img_counter}.csv')\n",
    "        print(f'Processing: {name}')\n",
    "        image = imread(i, as_gray=True)\n",
    "        df = pd.DataFrame(image)\n",
    "        df.to_csv(name, sep=',', encoding='utf-8')\n",
    "        img_counter += 1\n",
    "end = time.perf_counter()\n",
    "print(f'Elapsed time: {start - end}')"
   ]
  },
  {
   "cell_type": "code",
   "execution_count": null,
   "id": "4414e8e2",
   "metadata": {},
   "outputs": [],
   "source": [
    "def load_df():\n",
    "    DF_DIR = './pixel_values/'\n",
    "    df_files = []\n",
    "    [df_files.extend(glob.glob(DF_DIR + '*' + x)) for x in 'csv']\n",
    "    return df_files"
   ]
  },
  {
   "cell_type": "code",
   "execution_count": null,
   "id": "b94ae186",
   "metadata": {},
   "outputs": [],
   "source": [
    "dfs = load_df()"
   ]
  },
  {
   "cell_type": "code",
   "execution_count": null,
   "id": "b324b494",
   "metadata": {},
   "outputs": [],
   "source": [
    "import mediapipe as mp\n",
    "import cv2"
   ]
  },
  {
   "cell_type": "code",
   "execution_count": null,
   "id": "c8f6d50b",
   "metadata": {},
   "outputs": [],
   "source": [
    "mp_drawing = mp.solutions.drawing_utils\n",
    "mp_hands = mp.solutions.hands"
   ]
  },
  {
   "cell_type": "code",
   "execution_count": null,
   "id": "a5ef83ee",
   "metadata": {},
   "outputs": [],
   "source": [
    "def extract_coordinates_from_hand_landmark(hands, lm, i_width, i_height):\n",
    "    collected_values = []\n",
    "    for point in hands.HandLandmark:\n",
    "        normalize = lm.landmark[point]\n",
    "        coordinated = mp_drawing._normalized_to_pixel_coordinates(\n",
    "            normalize.x,\n",
    "            normalize.y,\n",
    "            i_width,\n",
    "            i_height\n",
    "        )\n",
    "        values = {\n",
    "            \"point\": int(point),\n",
    "            \"coordinates\": coordinated,\n",
    "            \"axis\": [normalize.x, normalize.y, normalize.z]\n",
    "        }\n",
    "        collected_values.append(values)\n",
    "    return collected_values\n"
   ]
  },
  {
   "cell_type": "code",
   "execution_count": null,
   "id": "523d1998",
   "metadata": {},
   "outputs": [],
   "source": [
    "def extract_coordinates_from_hand_landmark(hands, lm, i_width, i_height):\n",
    "    data = []\n",
    "    for point in hands.HandLandmark:\n",
    "        normalize = lm.landmark[point]\n",
    "        coordinated = mp_drawing._normalized_to_pixel_coordinates(\n",
    "            normalize.x,\n",
    "            normalize.y,\n",
    "            i_width,\n",
    "            i_height\n",
    "        )\n",
    "        values = {\n",
    "            \"point\": int(point),\n",
    "            \"coordinates\": coordinated,\n",
    "            \"axis\": [normalize.x, normalize.y, normalize.z]\n",
    "        }\n",
    "        data.append(values)\n",
    "    return data\n"
   ]
  },
  {
   "cell_type": "code",
   "execution_count": null,
   "id": "57af18c0",
   "metadata": {},
   "outputs": [],
   "source": [
    "\n",
    "LABEL_PATH = './labels'\n",
    "extracted_data = []\n",
    "frame = None\n",
    "file = load_images()[4623]\n",
    "\n",
    "with mp_hands.Hands(\n",
    "        static_image_mode=True,\n",
    "        min_detection_confidence=0.9,\n",
    "        min_tracking_confidence=0.5\n",
    ") as hands:\n",
    "    # for idx, file in enumerate(load_images()):\n",
    "    screen = np.array(ImageGrab.grab(bbox=(0, 40, 640, 480)))\n",
    "    image = cv2.flip(cv2.imread(file), 1)\n",
    "    results = hands.process(cv2.cvtColor(image, cv2.COLOR_BGR2RGB))\n",
    "    cv2.imshow('HC Hands', cv2.flip(image, 1))\n",
    "    if results.multi_hand_landmarks:\n",
    "        img_h, img_w, _ = image.shape\n",
    "        for hl in results.multi_hand_landmarks:\n",
    "            data = extract_coordinates_from_hand_landmark(\n",
    "                mp_hands,\n",
    "                hl,\n",
    "                img_w,\n",
    "                img_h\n",
    "            )\n",
    "            extracted_data = data\n",
    "            frame = image.copy()\n",
    "            file_name = file\n",
    "            break\n",
    "            ns = process_img(screen)\n",
    "    else:\n",
    "        print('Failed to process: {}'.format(file))"
   ]
  },
  {
   "cell_type": "code",
   "execution_count": null,
   "id": "dd2094d2",
   "metadata": {},
   "outputs": [],
   "source": [
    "def capture_frame_window(axis):\n",
    "    \"\"\"\n",
    "        Capture frame of interest based on the chosen furthest coordinates\n",
    "    \"\"\"\n",
    "    p_0 = list(filter(lambda ax: ax['point'] == 0, axis))[0]['coordinates']\n",
    "    p2 = list(filter(lambda ax: ax['point'] == 4, axis))[0]['coordinates']\n",
    "    p_12 = list(filter(lambda ax: ax['point'] == 12, axis))[0]['coordinates']\n",
    "    p_20 = list(filter(lambda ax: ax['point'] == 20, axis))[0]['coordinates']\n",
    "\n",
    "    t_l = [p_4[0], p_12[1]]\n",
    "    b_r = [p_20[0], p_0[1]]\n",
    "    print('{} :: {}'.format(t_l, b_r))\n",
    "    var = [t_l[1], b_r[1], t_l[0], b_r[0]]"
   ]
  },
  {
   "cell_type": "code",
   "execution_count": null,
   "id": "6188066c",
   "metadata": {},
   "outputs": [],
   "source": []
  }
 ],
 "metadata": {
  "kernelspec": {
   "display_name": "Python 3",
   "language": "python",
   "name": "python3"
  },
  "language_info": {
   "codemirror_mode": {
    "name": "ipython",
    "version": 3
   },
   "file_extension": ".py",
   "mimetype": "text/x-python",
   "name": "python",
   "nbconvert_exporter": "python",
   "pygments_lexer": "ipython3",
   "version": "3.6.13"
  }
 },
 "nbformat": 4,
 "nbformat_minor": 5
}
